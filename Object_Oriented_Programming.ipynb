{
  "nbformat": 4,
  "nbformat_minor": 0,
  "metadata": {
    "colab": {
      "provenance": []
    },
    "kernelspec": {
      "name": "python3",
      "display_name": "Python 3"
    },
    "language_info": {
      "name": "python"
    }
  },
  "cells": [
    {
      "cell_type": "code",
      "execution_count": null,
      "metadata": {
        "id": "1_wzgkP_ICYo"
      },
      "outputs": [],
      "source": [
        "# 1.\tExplain the importance of functions.\n",
        "# Functions allow you to write a piece of code once and reuse it multiple times\n",
        "\n",
        "# Code Reusability: Allows writing code once and using it multiple times.\n",
        "# Modularity: Breaks down programs into manageable pieces.\n",
        "# Abstraction: Hides complex implementation details.\n",
        "# Improved Readability: Enhances understanding through descriptive names.\n",
        "# Testing and Debugging: Simplifies testing and fixing issues.\n",
        "# Scalability: Manages complexity in larger projects.\n",
        "# Encapsulation: Separates concerns and prevents unintended interactions"
      ]
    },
    {
      "cell_type": "code",
      "source": [
        "# 2.\tWrite a basic function to greet students.\n",
        "def greeting():\n",
        "  print(\"hello students\");\n",
        "greeting()"
      ],
      "metadata": {
        "colab": {
          "base_uri": "https://localhost:8080/"
        },
        "id": "r7-CWdEdIvUD",
        "outputId": "d029ec08-0c5b-4c37-f8a4-68dc6849efc8"
      },
      "execution_count": null,
      "outputs": [
        {
          "output_type": "stream",
          "name": "stdout",
          "text": [
            "hello students\n"
          ]
        }
      ]
    },
    {
      "cell_type": "code",
      "source": [],
      "metadata": {
        "id": "w0w8RiAPJQmN"
      },
      "execution_count": null,
      "outputs": []
    },
    {
      "cell_type": "code",
      "source": [
        "# 3.\tWhat is the difference between print and return statements?\n",
        "# Print Statement:\n",
        "\n",
        "# Purpose: Displays output to the console or terminal.\n",
        "# Usage: Typically used for debugging or showing information to users.\n",
        "# Effect: Does not affect the flow of a program; it simply outputs data.\n",
        "# Example: print(\"Hello, world!\")\n",
        "# Return Statement:\n",
        "\n",
        "# Purpose: Sends a value from a function back to the caller.\n",
        "# Usage: Used to pass data from a function and control the function's output.\n",
        "# Effect: Ends the execution of a function and provides the result to the calling code.\n",
        "# Example: return 42"
      ],
      "metadata": {
        "id": "Pn76Q9AwI67K"
      },
      "execution_count": null,
      "outputs": []
    },
    {
      "cell_type": "code",
      "source": [
        "# 4.\tWhat are *args and **kwargs?\n",
        "# *args:\n",
        "\n",
        "# Purpose: Allows a function to accept an arbitrary number of positional\n",
        "# arguments.\n",
        "# Usage: Used when you don’t know beforehand how many arguments will be\n",
        "#  passed to the functio\n",
        "def sum(*args):\n",
        "  s=0\n",
        "  for i in args:\n",
        "    s+=i\n",
        "  return s\n",
        "sum(1,2,3)\n",
        "\n",
        "# **kwargs:\n",
        "\n",
        "# Purpose: Allows a function to accept an arbitrary number of keyword arguments.\n",
        "# Usage: Used when you don’t know beforehand what keyword arguments will be passed.\n",
        "# Syntax: Pr\n",
        "def pair(**kwargs):\n",
        "  print(\"the pair output\")\n",
        "  for i,j in kwargs.items():\n",
        "    print(f\"({i},{j}),\");\n",
        "pair(a=1,b=8)\n"
      ],
      "metadata": {
        "colab": {
          "base_uri": "https://localhost:8080/"
        },
        "id": "KN7fOPWOJSio",
        "outputId": "fdf25764-46ec-4f1f-cfef-89bb6deacca3"
      },
      "execution_count": null,
      "outputs": [
        {
          "output_type": "stream",
          "name": "stdout",
          "text": [
            "the pair output\n",
            "(a,1),\n",
            "(b,8),\n"
          ]
        }
      ]
    },
    {
      "cell_type": "code",
      "source": [
        "# 5.\tExplain the iterator function.\n",
        "# __iter__() Method:\n",
        "\n",
        "# Purpose: Initializes the iterator object and returns the iterator itself.\n",
        "# Usage: This method is required to make an object an iterator. It is typically implemented in classes that need to provide iteration capabilities.\n",
        "class MyIterator:\n",
        "    def __init__(self, data):\n",
        "        self.data = data\n",
        "        self.index = 0\n",
        "\n",
        "    def __iter__(self):\n",
        "        return self\n",
        "\n",
        "    def __next__(self):\n",
        "        if self.index < len(self.data):\n",
        "            result = self.data[self.index]\n",
        "            self.index += 1\n",
        "            return result\n",
        "        else:\n",
        "            raise StopIteration\n",
        "my_iter = MyIterator([1, 2, 3])\n",
        "for item in my_iter:\n",
        "    print(item)\n"
      ],
      "metadata": {
        "colab": {
          "base_uri": "https://localhost:8080/"
        },
        "id": "hPgEmw2cJlFi",
        "outputId": "e2a235db-e10a-4b5a-de46-491da9393820"
      },
      "execution_count": null,
      "outputs": [
        {
          "output_type": "stream",
          "name": "stdout",
          "text": [
            "1\n",
            "2\n",
            "3\n"
          ]
        }
      ]
    },
    {
      "cell_type": "code",
      "source": [
        "# 6.\tWrite a code that generates the squares of numbers from 1 to n using a generator.\n",
        "def square_num(li):\n",
        "    for i in range(li):\n",
        "        yield i**2\n",
        "n=int(input(\"enter range for square : \"))\n",
        "generator_fun=square_num(n)\n",
        "x=int(input(\"enter number to  print square :\"))\n",
        "for i in range(x):\n",
        "    y=next(generator_fun)\n",
        "    print(f\"square of {i} is {y}\")"
      ],
      "metadata": {
        "id": "5HHrCzcYLbu9"
      },
      "execution_count": null,
      "outputs": []
    },
    {
      "cell_type": "code",
      "source": [
        "# 7.\tWrite a code that generates palindromic numbers up to n using a generator.\n",
        "\n",
        "\n",
        "def palindrome(li):\n",
        "    for i in range(li):\n",
        "        y=str(i)\n",
        "        if(y==y[::-1]):\n",
        "            yield i\n",
        "n=int(input(\"enter range for palindrome : \"))\n",
        "generator_fun=palindrome(n)\n",
        "x=int(input(\"enter number to  print palindrome :\"))\n",
        "\n",
        "for i in range(x):\n",
        "    y=next(generator_fun)\n",
        "    print(f\"Palindrome is : {y}\")\n",
        "\n",
        "print(e-s)"
      ],
      "metadata": {
        "id": "qxOU6LxuLr_x"
      },
      "execution_count": null,
      "outputs": []
    },
    {
      "cell_type": "code",
      "source": [
        "# 8.\tWrite a code that generates even numbers from 2 to n using a generator.\n",
        "\n",
        "def even_num(li):\n",
        "    for i in range(li):\n",
        "        if i%2==0 and i!=0:\n",
        "            yield i**2\n",
        "n=int(input(\"enter range for even number : \"))\n",
        "generator_fun=even_num(n)\n",
        "x=int(input(\"enter number to  print even series :\"))\n",
        "for i in range(x):\n",
        "    y=next(generator_fun)\n",
        "\n",
        "    print(y,end=\" ,\")\n"
      ],
      "metadata": {
        "id": "9sbkcVuILugC",
        "colab": {
          "base_uri": "https://localhost:8080/"
        },
        "outputId": "fd66f307-5df3-4bd7-a1a0-54998deab4b0"
      },
      "execution_count": 58,
      "outputs": [
        {
          "output_type": "stream",
          "name": "stdout",
          "text": [
            "enter range for even number : 5\n",
            "enter number to  print even series :2\n",
            "4 ,16 ,"
          ]
        }
      ]
    },
    {
      "cell_type": "code",
      "source": [
        "# 9.\tWrite a code that generates powers of two up to n using a generator.\n",
        "def power_two(li):\n",
        "    for i in range(li+1):\n",
        "            yield 2**i\n",
        "n=int(input(\"enter range for power of two : \"))\n",
        "generator_fun=power_two(n)\n",
        "x=int(input(\"enter number to  print for power of two  :\"))\n",
        "print(\"power of two : \",end=\" \")\n",
        "for i in range(x):\n",
        "    y=next(generator_fun)\n",
        "\n",
        "    print(y,end=\" ,\")"
      ],
      "metadata": {
        "id": "DSbRzhqaLwMa"
      },
      "execution_count": null,
      "outputs": []
    },
    {
      "cell_type": "code",
      "source": [
        "# 10.\tWrite a code that generates prime numbers up to n using a generator.\n",
        "def prime_two(li):\n",
        "    for i in range(li+1):\n",
        "        t=True\n",
        "        for j in range(2,int(i/2+1)):\n",
        "            if i%j==0:\n",
        "                t=False\n",
        "                break\n",
        "\n",
        "        if t:\n",
        "            yield i\n",
        "n=int(input(\"enter range for power of two : \"))\n",
        "generator_fun=prime_two(n)\n",
        "x=int(input(\"enter number to  print for power of two  :\"))\n",
        "print(\"power of two : \",end=\" \")\n",
        "for i in range(x):\n",
        "    y=next(generator_fun)\n",
        "\n",
        "    print(y,end=\" ,\")"
      ],
      "metadata": {
        "id": "9vdG85nQLyrR"
      },
      "execution_count": null,
      "outputs": []
    },
    {
      "cell_type": "code",
      "source": [
        "# 11.\tWrite a code that uses a lambda function to calculate the sum of two numbers.\n",
        "sum=lambda x,y:x+y\n",
        "a=int(input(\"enter first number\"))\n",
        "b=int(input(\"enter second number\"))\n",
        "print(\"sum is :\",sum(a,b))"
      ],
      "metadata": {
        "id": "gdwPS3WGL0CN"
      },
      "execution_count": null,
      "outputs": []
    },
    {
      "cell_type": "code",
      "source": [
        "# 12.\tWrite a code that uses a lambda function to calculate the square of a given number.\n",
        "square=lambda x:x**2\n",
        "a=int(input(\"enter first number\"))\n",
        "print(f\" square of {a} is  :\",square(a))"
      ],
      "metadata": {
        "id": "3V_85NTdL1Wq"
      },
      "execution_count": null,
      "outputs": []
    },
    {
      "cell_type": "code",
      "source": [
        "# 13.\tWrite a code that uses a lambda function to check whether a given number is even or odd.\n",
        "even_odd=lambda x:\"even\" if x%2==0 else \"odd\"\n",
        "a=int(input(\"enter a number\"))\n",
        "print(f\"{a} is :\",even_odd(a))"
      ],
      "metadata": {
        "id": "tkDhfijfL3DH"
      },
      "execution_count": null,
      "outputs": []
    },
    {
      "cell_type": "code",
      "source": [],
      "metadata": {
        "id": "NED4iZe8MXeT"
      },
      "execution_count": null,
      "outputs": []
    },
    {
      "cell_type": "code",
      "source": [],
      "metadata": {
        "id": "Md5znxUbMYYD"
      },
      "execution_count": null,
      "outputs": []
    },
    {
      "cell_type": "code",
      "source": [
        "# 14.\tWrite a code that uses a lambda function to concatenate two strings.\n",
        "string_concat=lambda x,y:x+y\n",
        "st1=input(\"enter first string :\")\n",
        "st2=input(\"enter second string :\")\n",
        "print(f\"string concationation of `{st1}` and `{st2}` :\",string_concat(st1,st2))"
      ],
      "metadata": {
        "id": "qxSPmDf8L4Wu"
      },
      "execution_count": null,
      "outputs": []
    },
    {
      "cell_type": "code",
      "source": [],
      "metadata": {
        "id": "Awl3Az-PMd7G"
      },
      "execution_count": null,
      "outputs": []
    },
    {
      "cell_type": "code",
      "source": [],
      "metadata": {
        "id": "MXaYE_NTMeob"
      },
      "execution_count": null,
      "outputs": []
    },
    {
      "cell_type": "code",
      "source": [
        "# 15.\tWrite a code that uses a lambda function to find the maximum of three given numbers.\n",
        "sum=lambda x,y,z:x if x>y and y>z else y if y>x and y>z else z\n",
        "a=int(input(\"enter first number: \"))\n",
        "b=int(input(\"enter second number :\"))\n",
        "c=int(input(\"enter second number : \"))\n",
        "print(f\"Maximum of `{a}` `{b}` `{c}` is :\",sum(a,b,c))"
      ],
      "metadata": {
        "id": "wU6u7IanL5tH"
      },
      "execution_count": null,
      "outputs": []
    },
    {
      "cell_type": "code",
      "source": [
        "# 16.\tWrite a code that generates the squares of even numbers from a given list.\n",
        "def input_list(l):\n",
        "    return list(map(lambda x:int(x),l.split(\",\")))\n",
        "inn=input(\"enter string\")\n",
        "final_list=input_list(inn)\n",
        "\n",
        "square=lambda x:x**2\n",
        "print(\"list of even number is :\",end=\"\")\n",
        "[square(i) for i in final_list if i%2==0]"
      ],
      "metadata": {
        "id": "H90MtyvfL67w"
      },
      "execution_count": null,
      "outputs": []
    },
    {
      "cell_type": "code",
      "source": [
        "# 17.\tWrite a code that calculates the product of positive numbers from a given list.\n",
        "from functools import reduce\n",
        "def input_list(l):\n",
        "    return list(map(lambda x:int(x),l.split(\",\")))\n",
        "inn=input(\"enter string\")\n",
        "final_list=input_list(inn)\n",
        "positive_num=list(filter(lambda x:x>0,final_list))\n",
        "print(\"after filter positive number is : \",positive_num)\n",
        "pro_positive=reduce(lambda x,y:x*y,positive_num)\n",
        "print(\"Product of positive is \",pro_positive)"
      ],
      "metadata": {
        "id": "sdpuCMBqL8I3"
      },
      "execution_count": null,
      "outputs": []
    },
    {
      "cell_type": "code",
      "source": [
        "# 18.\tWrite a code that doubles the values of all numbers from a given list.\n",
        "def input_list(l):\n",
        "    return list(map(lambda x:int(x),l.split(\",\")))\n",
        "inn=input(\"enter list of number \")\n",
        "final_list=input_list(inn)\n",
        "print(f\"double each element new list\", [i*2 for i in final_list])"
      ],
      "metadata": {
        "id": "-KrONqI_L9dJ"
      },
      "execution_count": null,
      "outputs": []
    },
    {
      "cell_type": "code",
      "source": [
        "# 19.\tWrite a code that calculates the sum of cubes of numbers from a given list.\n",
        "from functools import reduce\n",
        "def input_list(l):\n",
        "    return list(map(lambda x:int(x),l.split(\",\")))\n",
        "inn=input(\"enter list of number \")\n",
        "final_list=input_list(inn)\n",
        "cube_list=[i**3 for i in final_list]\n",
        "print(f\"cube of each is :  {cube_list}\")\n",
        "sum_cube=reduce(lambda x,y:x+y,cube_list)\n",
        "print(\"Sum of  each element is :  \",sum_cube)"
      ],
      "metadata": {
        "id": "_6PscGNVL-zK"
      },
      "execution_count": null,
      "outputs": []
    },
    {
      "cell_type": "code",
      "source": [
        "# 20.\tWrite a code that filters out prime numbers from a given list.\n",
        "def input_list(l):\n",
        "    return list(map(lambda x:int(x),l.split(\",\")))\n",
        "def check_prime(el):\n",
        "    for i in (2,int(el/2+1)):\n",
        "        if el%i==0:\n",
        "            return False\n",
        "    return True\n",
        "inn=input(\"enter list of number :\")\n",
        "final_list=input_list(inn)\n",
        "final_list\n",
        "filterr=list(filter(lambda x:check_prime(x),final_list))\n",
        "print(f\"list of prime number is : {filterr}\")"
      ],
      "metadata": {
        "id": "QsTTAzThL_86"
      },
      "execution_count": null,
      "outputs": []
    },
    {
      "cell_type": "code",
      "source": [
        "# 21.\tWrite a code that uses a lambda function to calculate the sum of two numbers.\n",
        "sum=lambda x,y:x+y\n",
        "a=int(input(\"enter first number\"))\n",
        "b=int(input(\"enter second number\"))\n",
        "print(\"sum is :\",sum(a,b))"
      ],
      "metadata": {
        "id": "SWg-ra5OMOZC"
      },
      "execution_count": null,
      "outputs": []
    },
    {
      "cell_type": "code",
      "source": [
        "# 22.\tWrite a code that uses a lambda function to calculate the square of a given number.\n",
        "square=lambda x:x**2\n",
        "a=int(input(\"enter first number\"))\n",
        "print(f\" square of {a} is  :\",square(a))"
      ],
      "metadata": {
        "id": "iepid2ekMS-u"
      },
      "execution_count": null,
      "outputs": []
    },
    {
      "cell_type": "code",
      "source": [
        "# 23.\tWrite a code that uses a lambda function to check whether a given number is even or odd.\n",
        "even_odd=lambda x:\"even\" if x%2==0 else \"odd\"\n",
        "a=int(input(\"enter a number\"))\n",
        "print(f\"{a} is :\",even_odd(a))"
      ],
      "metadata": {
        "id": "8Aa8WdZKMZ0e"
      },
      "execution_count": null,
      "outputs": []
    },
    {
      "cell_type": "code",
      "source": [
        "# 24.\tWrite a code that uses a lambda function to concatenate two strings.\n",
        "string_concat=lambda x,y:x+y\n",
        "st1=input(\"enter first string :\")\n",
        "st2=input(\"enter second string :\")\n",
        "print(f\"string concationation of `{st1}` and `{st2}` :\",string_concat(st1,st2))"
      ],
      "metadata": {
        "id": "UUdCQnjVMfd4"
      },
      "execution_count": null,
      "outputs": []
    },
    {
      "cell_type": "code",
      "source": [
        "# 25.\tWrite a code that uses a lambda function to find the maximum of three given numbers.\n",
        "sum=lambda x,y,z:x if x>y and y>z else y if y>x and y>z else z\n",
        "a=int(input(\"enter first number: \"))\n",
        "b=int(input(\"enter second number :\"))\n",
        "c=int(input(\"enter second number : \"))\n",
        "print(f\"Maximum of `{a}` `{b}` `{c}` is :\",sum(a,b,c))"
      ],
      "metadata": {
        "id": "xH5ERcbrMlOv"
      },
      "execution_count": null,
      "outputs": []
    },
    {
      "cell_type": "code",
      "source": [
        "# 26.\tWhat is encapsulation in OOP?\n",
        "\n",
        "# Encapsulation in OOP is the practice of bundling data and methods within a\n",
        "#  class while restricting direct access to the data, typically by\n",
        "#  making attributes private and exposing them through public methods.\n",
        "#  This helps in protecting the object's internal state and controlling how it's\n",
        "#   modified.'\n",
        "class Car:\n",
        "    def __init__(self, make, model, year):\n",
        "        self.__make = make  # Private attribute\n",
        "        self.__model = model  # Private attribute\n",
        "        self.__year = year  # Private attribute\n",
        "\n",
        "    # Getter method to access the private attribute\n",
        "    def get_make(self):\n",
        "        return self.__make\n",
        "\n",
        "    # Setter method to modify the private attribute\n",
        "    def set_make(self, make):\n",
        "        self.__make = make\n",
        "\n",
        "# Create an instance of the Car class\n",
        "my_car = Car(\"Toyota\", \"Corolla\", 2020)\n",
        "\n",
        "# Access the private attribute using the getter method\n",
        "print(my_car.get_make())  # Output: Toyota\n",
        "\n",
        "# Modify the private attribute using the setter method\n",
        "my_car.set_make(\"Honda\")\n",
        "print(my_car.get_make())  # Output: Honda\n"
      ],
      "metadata": {
        "id": "CtrsLbq8Myol"
      },
      "execution_count": null,
      "outputs": []
    },
    {
      "cell_type": "code",
      "source": [
        "# 27.\tExplain the use of access modifiers in Python classes.\n",
        "\n",
        "# Access modifiers in Python classes are used to control the visibility and\n",
        "# accessibility of class attributes (variables) and methods (functions). Python\n",
        "# uses naming conventions rather than explicit keywords to define these access levels. There are three types of access modifiers in Python:\n",
        "# # Public:\n",
        "\n",
        "# Syntax: No leading underscore (e.g., self.attribute)\n",
        "# Access: Accessible from anywhere, both inside and outside the class.\n",
        "class MyClass:\n",
        "    def __init__(self):\n",
        "        self.public_attr = \"I am public\"\n",
        "# Protected:\n",
        "\n",
        "# Syntax: Single leading underscore (e.g., self._attribute)\n",
        "# Access: Intended to be used within the class and its subclasses.\n",
        "#  While it can still be accessed from outside the class, it’s a convention\n",
        "#   that it should not be, signaling that it's intended for int\n",
        "\n",
        "class MyClass:\n",
        "    def __init__(self):\n",
        "        self._protected_attr = \"I am protected\"\n",
        "# Syntax: Double leading underscores (e.g., self.__attribute)\n",
        "# Access: Accessible only within the class. Python uses name mangling to\n",
        "# make this attribute inaccessible directly from outside the class. However,\n",
        "# it can still be accessed indirectly using a specific syntax.\n",
        "class MyClass:\n",
        "    def __init__(self):\n",
        "        self.__private_attr = \"I am private\"\n",
        "\n",
        "    def get_private_attr(self):\n",
        "        return self.__private_attr\n"
      ],
      "metadata": {
        "id": "Fh4af6tHNVH5"
      },
      "execution_count": null,
      "outputs": []
    },
    {
      "cell_type": "code",
      "source": [
        "# 28.\tWhat is inheritance in OOP?\n",
        "# Inheritance allows classes to inherit attributes and methods\n",
        "# from other classes, facilitating code reuse, extending\n",
        "# functionality, and creating a logical class hierarchy.\n",
        "# Parent class\n",
        "class Animal:\n",
        "    def __init__(self, name):\n",
        "        self.name = name\n",
        "\n",
        "    def speak(self):\n",
        "        return f\"{self.name} makes a sound\"\n",
        "\n",
        "# Child class inheriting from Animal\n",
        "class Dog(Animal):\n",
        "    def speak(self):\n",
        "        return f\"{self.name} barks\"\n",
        "\n",
        "# Child class inheriting from Animal\n",
        "class Cat(Animal):\n",
        "    def speak(self):\n",
        "        return f\"{self.name} meows\"\n",
        "\n",
        "# Create instances of Dog and Cat\n",
        "dog = Dog(\"Buddy\")\n",
        "cat = Cat(\"Whiskers\")\n",
        "\n",
        "# Access inherited and overridden methods\n",
        "print(dog.speak())  # Output: Buddy barks\n",
        "print(cat.speak())  # Output: Whiskers meows\n"
      ],
      "metadata": {
        "id": "lKBxBFgvOH41"
      },
      "execution_count": null,
      "outputs": []
    },
    {
      "cell_type": "code",
      "source": [
        "\n",
        "# 29.\tDefine polymorphism in OOP\n",
        "# Polymorphism in OOP allows different classes to be treated as\n",
        "#  instances of the same class through a shared interface, enabling\n",
        "#   methods to be called on different objects with the appropriate behavior for\n",
        "# each object. This promotes flexibility and reuse of code.\n",
        "class Animal:\n",
        "    def speak(self):\n",
        "        return \"Animal makes a sound\"\n",
        "\n",
        "class Dog(Animal):\n",
        "    def speak(self):\n",
        "        return \"Dog barks\"\n",
        "\n",
        "class Cat(Animal):\n",
        "    def speak(self):\n",
        "        return \"Cat meows\"\n",
        "\n",
        "# Function that demonstrates polymorphism\n",
        "def make_sound(animal):\n",
        "    print(animal.speak())\n",
        "\n",
        "# Using polymorphism\n",
        "dog = Dog()\n",
        "cat = Cat()\n",
        "\n",
        "make_sound(dog)  # Output: Dog barks\n",
        "make_sound(cat)  # Output: Cat meows\n"
      ],
      "metadata": {
        "id": "tBOWQjuaOZ4l"
      },
      "execution_count": null,
      "outputs": []
    },
    {
      "cell_type": "code",
      "source": [
        "# 30.\tExplain method overriding in Python.\n",
        "# Method overriding in Python allows a subclass to provide ]\n",
        "# a different implementation for a method that is already defined\n",
        "#  in its superclass. This enables the subclass to modify or extend\n",
        "#  the behavior of the inherited method, while\n",
        "#  still maintaining the same method signature.\n",
        "class Animal:\n",
        "    def speak(self):\n",
        "        return \"Animal makes a sound\"\n",
        "\n",
        "class Dog(Animal):\n",
        "    def speak(self):\n",
        "        return \"Dog barks\"\n",
        "\n",
        "class Cat(Animal):\n",
        "    def speak(self):\n",
        "        return \"Cat meows\"\n",
        "\n",
        "# Function that demonstrates polymorphism\n",
        "def make_sound(animal):\n",
        "    print(animal.speak())\n",
        "\n",
        "# Using polymorphism\n",
        "dog = Dog()\n",
        "cat = Cat()\n",
        "\n",
        "make_sound(dog)  # Output: Dog barks\n",
        "make_sound(cat)  # Output: Cat meows\n",
        "class Bird(Animal):\n",
        "    def speak(self):\n",
        "        sound = super().speak()  # Accessing the superclass method\n",
        "        return sound + \" but Bird chirps\"\n",
        "\n",
        "bird = Bird()\n",
        "print(bird.speak())  # Output: Animal makes a sound but Bird chirps\n"
      ],
      "metadata": {
        "id": "2EyM72VmO6J_"
      },
      "execution_count": null,
      "outputs": []
    },
    {
      "cell_type": "code",
      "source": [
        "# 31.\tDefine a parent class Animal with a method make_sound that prints \"Generic animal sound.\" Create a child class Dog inheriting from Animal with a method make_sound that prints \"Woof!\".\n",
        "class Animal:\n",
        "    def make_sound(self):\n",
        "        print(\"Generic animal sound\")\n",
        "class Dog(Animal):\n",
        "    def make_sound(self):\n",
        "        print(\"Woof!\")\n",
        "dog=Dog()\n",
        "dog.make_sound()\n"
      ],
      "metadata": {
        "id": "sBSKzm1RPVvm"
      },
      "execution_count": null,
      "outputs": []
    },
    {
      "cell_type": "code",
      "source": [
        "# Que 32 Define a method move in the Animal class that prints \"Animal moves.\" Override the move method in the Dog class to print \"Dog runs.\"\n",
        "class Animal:\n",
        "    def move(self):\n",
        "        print(\"Animal moves\")\n",
        "class Dog(Animal):\n",
        "    def move(self):\n",
        "        print(\"Dog runs\")\n",
        "dog=Dog()\n",
        "dog.move()"
      ],
      "metadata": {
        "id": "IH_j0-f5Shu5"
      },
      "execution_count": null,
      "outputs": []
    },
    {
      "cell_type": "code",
      "source": [
        "# Que 33 Create a class Mammal with a method reproduce that prints \"Giving birth to live young.\" Create a class DogMammal inheriting from both Dog and Mammal.\n",
        "class Mammal:\n",
        "    def reproduce(self):\n",
        "        print(\"Giving birth to live young\")\n",
        "class Dog:\n",
        "    def reproduce(self):\n",
        "        print(\"Giving birth to baby dog\")\n",
        "class DogMammal(Mammal,Dog):\n",
        "    def reproduce(self):\n",
        "        print(\"Baby dog is also ,mammal\")\n",
        "dog_mammal=DogMammal()\n",
        "dog_mammal.reproduce()"
      ],
      "metadata": {
        "id": "BVmDSHteSjBn"
      },
      "execution_count": null,
      "outputs": []
    },
    {
      "cell_type": "code",
      "source": [
        "# 35.\tDefine constructors in both the Animal and Dog classes with different initialization parameters.\n",
        "class Animal:\n",
        "    def __init__(self, name, species):\n",
        "        self.name = name\n",
        "        self.species = species\n",
        "\n",
        "class Dog(Animal):\n",
        "    def __init__(self, name, breed):\n",
        "        # Initialize the Animal class (superclass)\n",
        "        super().__init__(name, species=\"Canine\")\n",
        "        self.breed = breed\n",
        "\n",
        "    def make_sound(self):\n",
        "        print(\"Woof!\")\n",
        "\n",
        "class GermanShepherd(Dog):\n",
        "    def make_sound(self):\n",
        "        print(\"Bark!\")\n",
        "\n",
        "# Create an instance of GermanShepherd\n",
        "GermanSh = GermanShepherd(name=\"Rex\", breed=\"German Shepherd\")\n",
        "GermanSh.make_sound()  # Output: Bark!\n",
        "\n"
      ],
      "metadata": {
        "id": "tdun-Hi7SllB"
      },
      "execution_count": null,
      "outputs": []
    },
    {
      "cell_type": "code",
      "source": [
        "# # Que 36 What is abstraction in Python? How is it implemented?\n",
        "# import abc\n",
        "class Student:\n",
        "    @abc.abstractmethod\n",
        "    def marks(self):\n",
        "        pass\n",
        "    @abc.abstractmethod\n",
        "    def assignment(self):\n",
        "        pass\n",
        "class Junior(Student):\n",
        "    def marks(self):\n",
        "        print(\"Junior got marks\")\n",
        "    def assignment(self):\n",
        "        print(\"Junior got Assignment\")\n",
        "ju=Junior()\n",
        "ju.marks()\n",
        "j=Junior()\n"
      ],
      "metadata": {
        "id": "9mqFk2WBT2Qd"
      },
      "execution_count": 9,
      "outputs": []
    },
    {
      "cell_type": "code",
      "source": [
        "# # 37.\tExplain the importance of abstraction in object-oriented programming.\n",
        "\n",
        "# Abstraction in OOP simplifies complex systems by hiding implementation details\n",
        "# and exposing only the essential features. It makes code easier to understand,\n",
        "#  reuse, and maintain by focusing on \"what\" an object does rather than \"how\" it\n",
        "#   does it."
      ],
      "metadata": {
        "id": "3ZJYNfE9UC6R"
      },
      "execution_count": null,
      "outputs": []
    },
    {
      "cell_type": "code",
      "source": [
        "# 38. How are abstract methods different from regular methods in Python?\n",
        "# Abstract Methods:\n",
        "\n",
        "# Defined in an abstract class using the @abstractmethod decorator.\n",
        "# Do not have an implementation; they only have a declaration.\n",
        "# Must be overridden in derived classes.\n",
        "\n",
        "# Regular Methods:\n",
        "\n",
        "# Have both a declaration and an implementation.\n",
        "# Can be inherited by subclasses, which can either use or override them."
      ],
      "metadata": {
        "id": "mKGSSKUvVXlR"
      },
      "execution_count": null,
      "outputs": []
    },
    {
      "cell_type": "code",
      "source": [
        "# # 39. How can you achieve abstraction using interfaces in Python?\n",
        "# # Python does not have traditional interfaces like some other languages,\n",
        "# but you can achieve abstraction using abstract base classes (ABCs) from the\n",
        "#  abc module. Define an abstract base class with\n",
        "# abstract methods, and any subclass must implement these methods.\n",
        "from abc import ABC, abstractmethod\n",
        "\n",
        "class MyInterface(ABC):\n",
        "    @abstractmethod\n",
        "    def my_method(self):\n",
        "        pass\n",
        "\n",
        "class ConcreteClass(MyInterface):\n",
        "    def my_method(self):\n",
        "        print(\"Implementation of abstract method.\")\n"
      ],
      "metadata": {
        "id": "Gbg9oJXNVd_G"
      },
      "execution_count": null,
      "outputs": []
    },
    {
      "cell_type": "code",
      "source": [
        "#  40 Can you provide an example of how abstraction can be utilized to create a common interface for a group of related classes in Python?\n",
        "# Certainly! Sup\n",
        "from abc import ABC, abstractmethod\n",
        "\n",
        "class MyInterface(ABC):\n",
        "    @abstractmethod\n",
        "    def my_method(self):\n",
        "        pass\n",
        "\n",
        "class ConcreteClass(MyInterface):\n",
        "    def my_method(self):\n",
        "        print(\"Implementation of abstract method.\")\n"
      ],
      "metadata": {
        "id": "pufOrq3yVvsk"
      },
      "execution_count": null,
      "outputs": []
    },
    {
      "cell_type": "code",
      "source": [
        "# . How does Python achieve polymorphism through method overriding?\n",
        "class Animal:\n",
        "    def speak(self):\n",
        "        print(\"Animal speaks\")\n",
        "\n",
        "class Dog(Animal):\n",
        "    def speak(self):\n",
        "        print(\"Dog barks\")\n",
        "\n",
        "class Cat(Animal):\n",
        "    def speak(self):\n",
        "        print(\"Cat meows\")\n",
        "\n",
        "# Polymorphism in action\n",
        "animals = [Dog(), Cat()]\n",
        "for animal in animals:\n",
        "    animal.speak()  # Calls the overridden method\n"
      ],
      "metadata": {
        "id": "gYKmIcm2WA5d"
      },
      "execution_count": null,
      "outputs": []
    },
    {
      "cell_type": "code",
      "source": [],
      "metadata": {
        "id": "PhVtB9deWGMW"
      },
      "execution_count": null,
      "outputs": []
    },
    {
      "cell_type": "code",
      "source": [
        "# 42. Define a base class with a method and a subclass that overrides the method.\n",
        "class BaseClass:\n",
        "    def greet(self):\n",
        "        print(\"Hello from BaseClass\")\n",
        "\n",
        "class SubClass(BaseClass):\n",
        "    def greet(self):\n",
        "        print(\"Hello from SubClass\")\n",
        "\n",
        "# Usage\n",
        "obj = SubClass()\n",
        "obj.greet()  # Output: Hello from SubClass\n"
      ],
      "metadata": {
        "id": "7v89Rcx-WEuf"
      },
      "execution_count": null,
      "outputs": []
    },
    {
      "cell_type": "code",
      "source": [
        "# 43. Define a base class and multiple subclasses with overridden methods.\n",
        "class Vehicle:\n",
        "    def start_engine(self):\n",
        "        print(\"Engine started\")\n",
        "\n",
        "class Car(Vehicle):\n",
        "    def start_engine(self):\n",
        "        print(\"Car engine started\")\n",
        "\n",
        "class Motorcycle(Vehicle):\n",
        "    def start_engine(self):\n",
        "        print(\"Motorcycle engine started\")\n",
        "\n",
        "# Usage\n",
        "vehicles = [Car(), Motorcycle()]\n",
        "for vehicle in vehicles:\n",
        "    vehicle.start_engine()  # Calls the overridden method\n"
      ],
      "metadata": {
        "id": "9Rz8LSb5WJpa"
      },
      "execution_count": null,
      "outputs": []
    },
    {
      "cell_type": "code",
      "source": [
        "# # 44. How does polymorphism improve code readability and reusability?\n",
        "# # Polymorphism improves code readability and reusability by allowing you to\n",
        "# write more generic code that can handle objects of different classes through a\n",
        "#  common interface. This way, you can add new classes with specific\n",
        "# implementations without changing the code that uses these objects."
      ],
      "metadata": {
        "id": "Jvl3335TWa0i"
      },
      "execution_count": null,
      "outputs": []
    },
    {
      "cell_type": "code",
      "source": [
        "# 45. Describe how Python supports polymorphism with duck typing.\n",
        "class Duck:\n",
        "    def quack(self):\n",
        "        print(\"Quack!\")\n",
        "\n",
        "class Person:\n",
        "    def quack(self):\n",
        "        print(\"I'm quacking!\")\n",
        "\n",
        "def make_it_quack(duck_like):\n",
        "\n",
        "    duck_like.quack()\n",
        "\n",
        "# Both Duck and Person can be used\n",
        "make_it_quack(Duck())    # Output: Quack!\n",
        "make_it_quack(Person())  # Output: I'm quacking!\n"
      ],
      "metadata": {
        "colab": {
          "base_uri": "https://localhost:8080/"
        },
        "id": "6VEEtoA0Wl8g",
        "outputId": "097a1ff3-4b4a-46ae-bda3-5cc982c05617"
      },
      "execution_count": 11,
      "outputs": [
        {
          "output_type": "stream",
          "name": "stdout",
          "text": [
            "<__main__.Duck object at 0x7e3368cdf250>\n",
            "Quack!\n",
            "<__main__.Person object at 0x7e3368cde260>\n",
            "I'm quacking!\n"
          ]
        }
      ]
    },
    {
      "cell_type": "code",
      "source": [
        "# # 46. How do you achieve encapsulation in Python?\n",
        "# # Encapsulation in Python is achieved by defining private\n",
        "# variables and methods using a leading underscore (e.g., _variable or _method).\n",
        "# This is a convention to indicate that these elements should not be accessed directly\n",
        "#  from outside the class.\n",
        "class MyClass:\n",
        "    def __init__(self):\n",
        "        self.public_var = \"I am public\"\n",
        "        self._private_var = \"I am private\"\n",
        "\n",
        "    def _private_method(self):\n",
        "        print(\"This is a private method\")\n",
        "\n",
        "    def public_method(self):\n",
        "        print(\"This is a public method\")\n",
        "\n",
        "# Usage\n",
        "obj = MyClass()\n",
        "print(obj.public_var)  # Accessible\n",
        "print(obj._private_var)  # Not recommended to access\n",
        "obj.public_method()  # Accessible\n",
        "obj._private_method()  # Not recommended to call\n"
      ],
      "metadata": {
        "colab": {
          "base_uri": "https://localhost:8080/",
          "height": 108
        },
        "id": "ib2BBSMuXAZk",
        "outputId": "90895010-8c0e-4a2f-8db7-e51a3de483a8"
      },
      "execution_count": 13,
      "outputs": [
        {
          "output_type": "stream",
          "name": "stdout",
          "text": [
            "I am public\n",
            "I am private\n",
            "This is a public method\n",
            "This is a private method\n"
          ]
        },
        {
          "output_type": "execute_result",
          "data": {
            "text/plain": [
              "'I am private'"
            ],
            "application/vnd.google.colaboratory.intrinsic+json": {
              "type": "string"
            }
          },
          "metadata": {},
          "execution_count": 13
        }
      ]
    },
    {
      "cell_type": "code",
      "source": [
        "# 47. Can encapsulation be bypassed in Python? If so, how?\n",
        "# Yes, encapsulation can be bypassed in Python because the language does not\n",
        "#  enforce strict access control. The private members (those with a leading underscore)\n",
        "#   are just conventions, and users can still access or modify them if desired. Python\n",
        "#   relies on the principle of “we are all consenting adults here,”\n",
        "#  trusting that developers will respect the encapsulation conventions.\n",
        "class MyClass:\n",
        "    def __init__(self):\n",
        "        self._private_var = \"I am private\"\n",
        "\n",
        "obj = MyClass()\n",
        "print(obj._private_var)  # Direct access is possible\n"
      ],
      "metadata": {
        "colab": {
          "base_uri": "https://localhost:8080/"
        },
        "id": "76X78GPnX52o",
        "outputId": "572c2ec9-0242-43a8-b18d-e667bdeae7c5"
      },
      "execution_count": 12,
      "outputs": [
        {
          "output_type": "stream",
          "name": "stdout",
          "text": [
            "I am private\n"
          ]
        }
      ]
    },
    {
      "cell_type": "code",
      "source": [
        "# Que 48.\tImplement a class BankAccount with a private balance attribute. Include methods to deposit, withdraw, and check the balance.\n",
        "class BankAccount:\n",
        "    def __init__(self,balance):\n",
        "        self.__balance=balance\n",
        "    def check_bal(self):\n",
        "        return print(\"Account Balance : \",self.__balance)\n",
        "    def deposit(self,amount):\n",
        "        self.__balance+=amount\n",
        "        print(\"Deposit Amount :\",amount)\n",
        "        return print(\"Account Balance : \",self.__balance)\n",
        "    def withdraw(self,amount):\n",
        "        if self.__balance>=amount:\n",
        "            self.__balance-=amount\n",
        "            print(\"Withdraw amount : \",amount)\n",
        "            return print(\"Account Balance : \",self.__balance)\n",
        "        else:\n",
        "            return \"Insufficient Balance\""
      ],
      "metadata": {
        "id": "NO63gpodYkNC"
      },
      "execution_count": null,
      "outputs": []
    },
    {
      "cell_type": "code",
      "source": [
        "# Que 49 49.\tDevelop a Person class with private attributes name and email, and methods to set and get the email\n",
        "class Person:\n",
        "    def __init__(self,name,email):\n",
        "        self.__name=name\n",
        "        self.__email=email\n",
        "    def get_email(self):\n",
        "        return print(\"Your email is : \",self.__email)\n",
        "    def set_eamil(self,new_email):\n",
        "        self.__email=new_email\n",
        "        return print(\"Your Email is update as : \",self.__email)"
      ],
      "metadata": {
        "id": "1lkmWu8KX-dn"
      },
      "execution_count": null,
      "outputs": []
    },
    {
      "cell_type": "code",
      "source": [
        "# # 50.\tWhy is encapsulation considered a pillar of object-oriented programming (OOP)?\n",
        "\n",
        "# Information Hiding\n",
        "# Encapsulation hides an object's internal state and implementation details from the outside world.\n",
        "\n",
        "# Modularity\n",
        "# Encapsulation groups related data and methods into a single, manageable unit.\n",
        "\n",
        "# Maintenance and Flexibility\n",
        "# Encapsulation allows changes to internal implementation without affecting external code.\n",
        "\n",
        "# Control of Access\n",
        "# Encapsulation controls how data is accessed and modified, ensuring data integrity.\n",
        "\n",
        "# Abstraction\n",
        "# Encapsulation provides a simplified interface while concealing complex internal workings.\n",
        "\n",
        "# Security\n",
        "# Encapsulation helps protect sensitive data by restricting direct access and enforcing controlled interactions."
      ],
      "metadata": {
        "id": "Fb3SHwT3Yvpw"
      },
      "execution_count": null,
      "outputs": []
    },
    {
      "cell_type": "code",
      "source": [
        "# 51.\tCreate a decorator in Python that adds functionality to a simple function by printing a message before and after the function execution.\n",
        "class Shape:\n",
        "    def __init__(self,fun):\n",
        "        self.fun=fun\n",
        "    def __call__(self):\n",
        "        print(\"Before function execution :\")\n",
        "        self.fun()\n",
        "        print(\"After function execution :\")\n",
        "@Shape\n",
        "def fun_execution():\n",
        "    print(\"During function execition\")\n",
        "fun_execution()"
      ],
      "metadata": {
        "colab": {
          "base_uri": "https://localhost:8080/"
        },
        "id": "dsnV8hzFaFJH",
        "outputId": "24f98868-b3ae-4374-b0b9-614aaf4c63c6"
      },
      "execution_count": 15,
      "outputs": [
        {
          "output_type": "stream",
          "name": "stdout",
          "text": [
            "Before function execution :\n",
            "During function execition\n",
            "After function execution :\n"
          ]
        }
      ]
    },
    {
      "cell_type": "code",
      "source": [
        "# 52.\tModify the decorator to accept arguments and print the function name along with the message.\n",
        "def add_functionality_decorator(message_before, message_after):\n",
        "    def decorator(func):\n",
        "        def wrapper(*args, **kwargs):\n",
        "            print(f\"{message_before} - Function: {func.__name__}\")\n",
        "            result = func(*args, **kwargs)\n",
        "            print(f\"{message_after} - Function: {func.__name__}\")\n",
        "            return result\n",
        "        return wrapper\n",
        "    return decorator\n",
        "\n",
        "# Applying the decorator with arguments\n",
        "@add_functionality_decorator(\"Starting execution\", \"Ending execution\")\n",
        "def simple_function(x, y):\n",
        "    print(f\"Executing function with arguments: {x} and {y}\")\n",
        "    return x + y\n",
        "\n",
        "# Calling the decorated function\n",
        "result = simple_function(5, 3)\n",
        "print(f\"Result: {result}\")\n"
      ],
      "metadata": {
        "id": "vCH_fWTvdUye"
      },
      "execution_count": null,
      "outputs": []
    },
    {
      "cell_type": "code",
      "source": [
        "# 53.\tCreate two decorators and apply them to a single function. Ensure that they execute in the order they are applied.\n",
        "def decorator_one(func):\n",
        "    def wrapper(*args, **kwargs):\n",
        "        print(\"Decorator One: Before function execution\")\n",
        "        result = func(*args, **kwargs)\n",
        "        print(\"Decorator One: After function execution\")\n",
        "        return result\n",
        "    return wrapper\n",
        "\n",
        "def decorator_two(func):\n",
        "    def wrapper(*args, **kwargs):\n",
        "        print(\"Decorator Two: Before function execution\")\n",
        "        result = func(*args, **kwargs)\n",
        "        print(\"Decorator Two: After function execution\")\n",
        "        return result\n",
        "    return wrapper\n",
        "\n",
        "@decorator_one\n",
        "@decorator_two\n",
        "def my_function(x, y):\n",
        "    print(f\"Function execution with arguments: {x} and {y}\")\n",
        "    return x + y\n",
        "\n",
        "# Calling the decorated function\n",
        "result = my_function(5, 3)\n",
        "print(f\"Result: {result}\")\n"
      ],
      "metadata": {
        "colab": {
          "base_uri": "https://localhost:8080/"
        },
        "id": "olCkHTdMej6i",
        "outputId": "ed353414-cccc-4ff1-a7dc-3000c6edd7a6"
      },
      "execution_count": 16,
      "outputs": [
        {
          "output_type": "stream",
          "name": "stdout",
          "text": [
            "Decorator One: Before function execution\n",
            "Decorator Two: Before function execution\n",
            "Function execution with arguments: 5 and 3\n",
            "Decorator Two: After function execution\n",
            "Decorator One: After function execution\n",
            "Result: 8\n"
          ]
        }
      ]
    },
    {
      "cell_type": "code",
      "source": [
        "def decorator_one(func):\n",
        "    def wrapper(*args, **kwargs):\n",
        "        print(\"Decorator One: Before function execution\")\n",
        "        print(f\"Arguments: {args}\")\n",
        "        print(f\"Keyword Arguments: {kwargs}\")\n",
        "        result = func(*args, **kwargs)\n",
        "        print(\"Decorator One: After function execution\")\n",
        "        return result\n",
        "    return wrapper\n",
        "\n",
        "def decorator_two(func):\n",
        "    def wrapper(*args, **kwargs):\n",
        "        print(\"Decorator Two: Before function execution\")\n",
        "        print(f\"Arguments: {args}\")\n",
        "        print(f\"Keyword Arguments: {kwargs}\")\n",
        "        result = func(*args, **kwargs)\n",
        "        print(\"Decorator Two: After function execution\")\n",
        "        return result\n",
        "    return wrapper\n",
        "\n",
        "@decorator_one\n",
        "@decorator_two\n",
        "def my_function(x, y, z=0):\n",
        "    print(f\"Function execution with arguments: x={x}, y={y}, z={z}\")\n",
        "    return x + y + z\n",
        "\n",
        "# Calling the decorated function with arguments\n",
        "result = my_function(5, 3, z=2)\n",
        "print(f\"Result: {result}\")\n"
      ],
      "metadata": {
        "colab": {
          "base_uri": "https://localhost:8080/"
        },
        "id": "nEWzg4c4hS5z",
        "outputId": "a064f2b3-c188-4c23-c769-1a2749517dd2"
      },
      "execution_count": 24,
      "outputs": [
        {
          "output_type": "stream",
          "name": "stdout",
          "text": [
            "Before execution\n",
            "3\n",
            "after execution\n"
          ]
        }
      ]
    },
    {
      "cell_type": "code",
      "source": [
        "# 54.\tModify the decorator to accept and pass function arguments to the wrapped function.\n",
        "def decorator_one(func):\n",
        "    def wrapper(*args, **kwargs):\n",
        "        print(\"Decorator One: Before function execution\")\n",
        "        print(f\"Arguments: {args}\")\n",
        "        print(f\"Keyword Arguments: {kwargs}\")\n",
        "        result = func(*args, **kwargs)\n",
        "        print(\"Decorator One: After function execution\")\n",
        "        return result\n",
        "    return wrapper\n",
        "\n",
        "def decorator_two(func):\n",
        "    def wrapper(*args, **kwargs):\n",
        "        print(\"Decorator Two: Before function execution\")\n",
        "        print(f\"Arguments: {args}\")\n",
        "        print(f\"Keyword Arguments: {kwargs}\")\n",
        "        result = func(*args, **kwargs)\n",
        "        print(\"Decorator Two: After function execution\")\n",
        "        return result\n",
        "    return wrapper\n",
        "\n",
        "@decorator_one\n",
        "@decorator_two\n",
        "def my_function(x, y, z=0):\n",
        "    print(f\"Function execution with arguments: x={x}, y={y}, z={z}\")\n",
        "    return x + y + z\n",
        "\n",
        "# Calling the decorated function with arguments\n",
        "result = my_function(5, 3, z=2)\n",
        "print(f\"Result: {result}\")\n"
      ],
      "metadata": {
        "id": "dayr0pMMi0F_"
      },
      "execution_count": null,
      "outputs": []
    },
    {
      "cell_type": "code",
      "source": [
        "# 55.\tCreate a decorator that preserves the metadata of the original functio\n",
        "import functools\n",
        "\n",
        "def preserve_metadata_decorator(func):\n",
        "    @functools.wraps(func)\n",
        "    def wrapper(*args, **kwargs):\n",
        "        print(\"Executing decorated function\")\n",
        "        return func(*args, **kwargs)\n",
        "    return wrapper\n",
        "\n",
        "@preserve_metadata_decorator\n",
        "def my_function(x, y):\n",
        "    \"\"\"This is my_function's docstring.\"\"\"\n",
        "    return x + y\n",
        "\n",
        "# Accessing metadata\n",
        "print(f\"Function name: {my_function.__name__}\")\n",
        "print(f\"Docstring: {my_function.__doc__}\")\n",
        "\n",
        "# Calling the decorated function\n",
        "result = my_function(5, 3)\n",
        "print(f\"Result: {result}\")\n"
      ],
      "metadata": {
        "id": "ufs9i_d5kKtK"
      },
      "execution_count": null,
      "outputs": []
    },
    {
      "cell_type": "code",
      "source": [
        "# Que 56.\tCreate a Python class Calculator with a static method add that takes in two numbers and returns their sum\n",
        "class Calculator:\n",
        "    @staticmethod\n",
        "    def sum(x,y):\n",
        "        return print(\"Sum is  :\",x+y)\n",
        "Calculator.sum(1,2)"
      ],
      "metadata": {
        "id": "jO-ouc0wZA5p"
      },
      "execution_count": null,
      "outputs": []
    },
    {
      "cell_type": "code",
      "source": [
        "# 57.\tCreate a Python class Employee with a class method get_employee_count that returns the total number of employees created.\n",
        "class Employee:\n",
        "    count=0\n",
        "    def __init__(self):\n",
        "        Employee.count+=1\n",
        "    def get_employee_count(self):\n",
        "        return print(\"Total Employe created is :\",Employee.count)"
      ],
      "metadata": {
        "id": "j4Y_nePHZcro"
      },
      "execution_count": null,
      "outputs": []
    },
    {
      "cell_type": "code",
      "source": [
        "# #58\tCreate a Python class StringFormatter with a static method reverse_string that takes a string as input and returns its reverse.\n",
        "class StringFormatter:\n",
        "    @staticmethod\n",
        "    def reverse_string(string):\n",
        "        return print(\"reverse string is :\",string[::-1])\n",
        "StringFormatter.reverse_string(\"abcd\")"
      ],
      "metadata": {
        "colab": {
          "base_uri": "https://localhost:8080/"
        },
        "id": "f-u4zJpIkX53",
        "outputId": "062834bd-cba1-40a5-f61e-902b55e37bc3"
      },
      "execution_count": 25,
      "outputs": [
        {
          "output_type": "stream",
          "name": "stdout",
          "text": [
            "reverse string is : dcba\n"
          ]
        }
      ]
    },
    {
      "cell_type": "code",
      "source": [
        "# 59.\tCreate a Python class Circle with a class method calculate_area that calculates the area of a circle given its radius.\n",
        "class Circle:\n",
        "  def __init__(self,r):\n",
        "    self.r=r\n",
        "  def cal_area(self):\n",
        "    rad=self.r\n",
        "    return 3.14*rad*rad;\n",
        "cir_cl=Circle(5)\n",
        "print(\"area of circle\",cir_cl.cal_area())"
      ],
      "metadata": {
        "colab": {
          "base_uri": "https://localhost:8080/"
        },
        "id": "uvzc_WqjlKQ3",
        "outputId": "1d87ff5f-818f-4ae7-c7ea-8a93f2737ab7"
      },
      "execution_count": 30,
      "outputs": [
        {
          "output_type": "stream",
          "name": "stdout",
          "text": [
            "area of circle 78.5\n"
          ]
        }
      ]
    },
    {
      "cell_type": "code",
      "source": [
        "# 60.\tCreate a Python class TemperatureConverter with a static method celsius_to_fahrenheit that converts Celsius to Fahrenheit.\n",
        "class TemperatureConverter:\n",
        "  @staticmethod\n",
        "  def celsius(cel):\n",
        "    fer= (cel*9/5)+32;\n",
        "    return fer\n",
        "converter=TemperatureConverter.celsius(5)\n",
        "\n",
        "print(f\"after convert celcius `{deg}` is:\",converter,\"Fer\")"
      ],
      "metadata": {
        "colab": {
          "base_uri": "https://localhost:8080/"
        },
        "id": "g8g0HeMzmXr0",
        "outputId": "378ab16d-ceca-40ed-991c-9a02e2d463f9"
      },
      "execution_count": 36,
      "outputs": [
        {
          "output_type": "stream",
          "name": "stdout",
          "text": [
            "after convert celcius `7` is: 41.0\n"
          ]
        }
      ]
    },
    {
      "cell_type": "code",
      "source": [
        "# 61.\tWhat is the purpose of the str() method in Python classes? Provide an example.\n",
        "# Human-Readable Representation: The __str__() method provides a readable and understandable string that represents the object, which is helpful when printing the object or displaying it in the console.\n",
        "# Example:\n",
        "class Person:\n",
        "    def __init__(self, name, age):\n",
        "        self.name = name\n",
        "        self.age = age\n",
        "\n",
        "    def __str__(self):\n",
        "        return f\"Person(name={self.name}, age={self.age})\"\n",
        "\n",
        "# Creating an instance of the Person class\n",
        "person = Person(\"Alice\", 30)\n",
        "\n",
        "# Using the str() function or print to display the object\n",
        "print(person)  # Output: Person(name=Alice, age=30)\n",
        "print(str(person))  # Output: Person(name=Alice, age=30)\n"
      ],
      "metadata": {
        "colab": {
          "base_uri": "https://localhost:8080/"
        },
        "id": "wrG-PXaSoyiU",
        "outputId": "a99be504-3920-4772-a15c-cd8719c9809e"
      },
      "execution_count": 37,
      "outputs": [
        {
          "output_type": "stream",
          "name": "stdout",
          "text": [
            "Person(name=Alice, age=30)\n",
            "Person(name=Alice, age=30)\n"
          ]
        }
      ]
    },
    {
      "cell_type": "code",
      "source": [
        "# # 62.\tHow does the len() method work in Python? Provide an example.\n",
        "# For Sequences (e.g., strings, lists, tuples): len() returns the number of elements or characters.\n",
        "class CustomCollection:\n",
        "    def __init__(self, items):\n",
        "        self.items = items\n",
        "\n",
        "    def __len__(self):\n",
        "        return len(self.items)\n",
        "\n",
        "custom_obj = CustomCollection([1, 2, 3, 4])\n",
        "print(len(custom_obj))  # Output: 4"
      ],
      "metadata": {
        "id": "20LQqQrHpcrW"
      },
      "execution_count": null,
      "outputs": []
    },
    {
      "cell_type": "code",
      "source": [
        "# # # 63.\tExplain the usage of the add() method in Python classes. Provide an example.\n",
        "\n",
        "# # In Python, the add() method is commonly associated with the set data structure. It is used to add an element to a set. If the element is already present, the set does not change because sets do not allow duplicate elements.\n",
        "\n",
        "# In Python, the add() method is commonly associated with the set data structure. It is used to add an element to a set. If the element is already present, the set does not change because sets do not allow duplicate elements.\n",
        "class BankAccount:\n",
        "    def __init__(self, owner, balance):\n",
        "        self.owner = owner\n",
        "        self.balance = balance\n",
        "\n",
        "    def add(self, amount):\n",
        "        \"\"\"Add a specific amount to the balance.\"\"\"\n",
        "        self.balance += amount\n",
        "        print(f\"Added {amount} to the account. New balance: {self.balance}\")\n",
        "\n",
        "\n",
        "account = BankAccount(\"Alice\", 1000)\n",
        "\n",
        "account.add(500)  # Output: Added 500 to the account. New balance: 1500\n"
      ],
      "metadata": {
        "id": "BxBq4QEUpnn1"
      },
      "execution_count": null,
      "outputs": []
    },
    {
      "cell_type": "code",
      "source": [],
      "metadata": {
        "id": "dgoHrMmUqAAP"
      },
      "execution_count": null,
      "outputs": []
    },
    {
      "cell_type": "code",
      "source": [
        "#66 What is the purpose of a getter method in Python? Provide an example demonstrating the use of a getter method using property decorators.\n",
        "class Account:\n",
        "    def __init__(self,acc_no):\n",
        "        self.__acc_no=acc_no\n",
        "    @property\n",
        "    def get(self):\n",
        "        return print(\"account no is :\",self.__acc_no)\n",
        ""
      ],
      "metadata": {
        "id": "a-QRe-tgZe3M"
      },
      "execution_count": null,
      "outputs": []
    },
    {
      "cell_type": "code",
      "source": [
        "#64.\tWhat is the purpose of the getitem() method in Python? Provide an example.\n",
        "# The getitem() method in Python is used to access an item from a collection (like a list, tuple, dictionary, or any object that supports indexing) using a specified index or key. This method is typically used internally by the Python interpreter when the indexing syntax (obj[key]) is used.\n",
        "class MyList:\n",
        "    def __init__(self, items):\n",
        "        self.items = items\n",
        "\n",
        "    def __getitem__(self, index):\n",
        "        return self.items[index]\n",
        "\n",
        "# Create an instance of MyList with a list of items\n",
        "my_list = MyList([10, 20, 30, 40, 50])\n",
        "\n",
        "# Access elements using indexing\n",
        "print(my_list[0])  # Output: 10\n",
        "print(my_list[2])  # Output: 30\n",
        "print(my_list[4])  # Output: 50\n"
      ],
      "metadata": {
        "id": "ugzyW7mrlJKk"
      },
      "execution_count": null,
      "outputs": []
    },
    {
      "cell_type": "code",
      "source": [
        "# 65.\tExplain the usage of the iter() and next() methods in Python. Provide an example using iterators.\n",
        "# Define a list\n",
        "my_list = [1, 2, 3, 4, 5]\n",
        "\n",
        "# Create an iterator from the list\n",
        "iterator = iter(my_list)\n",
        "\n",
        "# Access elements using the next() function\n",
        "print(next(iterator))  # Output: 1\n",
        "print(next(iterator))  # Output: 2\n",
        "print(next(iterator))  # Output: 3\n",
        "\n",
        "# You can continue calling next() to get the remaining elements\n",
        "print(next(iterator))  # Output: 4\n",
        "print(next(iterator))  # Output: 5\n",
        "\n",
        "# If you call next() again, it will raise a StopIteration exception\n",
        "# print(next(iterator))  # Uncommenting this line will raise StopIteration\n"
      ],
      "metadata": {
        "id": "wKsAQWySqelR"
      },
      "execution_count": null,
      "outputs": []
    },
    {
      "cell_type": "code",
      "source": [
        "#66 What is the purpose of a getter method in Python? Provide an example demonstrating the use of a getter method using property decorators.\n",
        "class Account:\n",
        "    def __init__(self,acc_no):\n",
        "        self.__acc_no=acc_no\n",
        "    @property\n",
        "    def get(self):\n",
        "        return print(\"account no is :\",self.__acc_no)\n",
        "    @get.setter\n",
        "    def set_new(self,new_acc):\n",
        "        self.__acc_no=new_acc\n",
        "        print(\"new acc_no is :\",self.__acc_no)"
      ],
      "metadata": {
        "id": "XO7gjKfDZgpL"
      },
      "execution_count": null,
      "outputs": []
    },
    {
      "cell_type": "code",
      "source": [
        "# 67.\tExplain the role of setter methods in Python. Demonstrate how to use a setter method to modify a class attribute using property decorators.\n",
        "class Person:\n",
        "    def __init__(self, name, age):\n",
        "        self._name = name\n",
        "        self._age = age\n",
        "\n",
        "    # Getter for the name property\n",
        "    @property\n",
        "    def name(self):\n",
        "        return self._name\n",
        "\n",
        "    # Setter for the name property\n",
        "    @name.setter\n",
        "    def name(self, value):\n",
        "        if not value:\n",
        "            raise ValueError(\"Name cannot be empty\")\n",
        "        self._name = value\n",
        "\n",
        "    # Getter for the age property\n",
        "    @property\n",
        "    def age(self):\n",
        "        return self._age\n",
        "\n",
        "    # Setter for the age property\n",
        "    @age.setter\n",
        "    def age(self, value):\n",
        "        if value < 0:\n",
        "            raise ValueError(\"Age cannot be negative\")\n",
        "        self._age = value\n",
        "\n",
        "# Example usage\n",
        "person = Person(\"Alice\", 30)\n",
        "\n",
        "# Accessing and modifying attributes using setters\n",
        "print(person.name)  # Output: Alice\n",
        "person.name = \"Bob\"  # Uses the setter method to update the name\n",
        "print(person.name)  # Output: Bob\n",
        "\n",
        "print(person.age)  # Output: 30\n",
        "person.age = 35  # Uses the setter method to update the age\n",
        "print(person.age)  # Output: 35\n",
        "\n",
        "# Uncommenting the following lines will raise errors due to validation\n",
        "# person.name = \"\"  # Raises ValueError: Name cannot be empty\n",
        "# person.age = -5   # Raises ValueError: Age cannot be negative\n",
        "\n"
      ],
      "metadata": {
        "id": "lnyu0s2drqkm"
      },
      "execution_count": null,
      "outputs": []
    },
    {
      "cell_type": "code",
      "source": [
        "# # 68.\tWhat is the purpose of the @property decorator in Python? Provide an example illustrating its usage.\n",
        "\n",
        "# The @property decorator in Python is used to define a method in a class that can be accessed like an attribute. It provides a way to create getter methods for attributes while keeping the syntax simple and intuitive. This allow\n",
        "\n",
        "class Sample:\n",
        "  def __init__(self,name):\n",
        "    self._name=name\n",
        "  @property\n",
        "  def name_access(self):\n",
        "    return self._name\n",
        "  @name_access.setter\n",
        "  def set_name(self,ne_name):\n",
        "    self._name=ne_name\n",
        "s=Sample(\"Rahul\")\n",
        "print(\"access private element \",s.name_access) #access name attribute which is private\n",
        "s.set_name=\"Rohit\" #set ne wname\n",
        "print(\"after set new name:\",s.name_access)"
      ],
      "metadata": {
        "colab": {
          "base_uri": "https://localhost:8080/"
        },
        "id": "hqNgUB4ksBHC",
        "outputId": "c0d37d33-bc20-47e6-975c-bc35334d760b"
      },
      "execution_count": 44,
      "outputs": [
        {
          "output_type": "stream",
          "name": "stdout",
          "text": [
            "after set Rohit\n"
          ]
        }
      ]
    },
    {
      "cell_type": "code",
      "source": [
        "# 69.\tExplain the use of the @deleter decorator in Python property decorators. Provide a code example demonstrating its application.\n",
        "\n",
        "class Sample:\n",
        "  def __init__(self,name):\n",
        "    self._name=name\n",
        "  @property\n",
        "  def name_access(self):\n",
        "    return self._name\n",
        "  @name_access.setter\n",
        "  def set_name(self,ne_name):\n",
        "    self._name=ne_name\n",
        "  @name_access.deleter\n",
        "  def del_name(self):\n",
        "      del self._name\n",
        "s=Sample(\"Rahul\")\n",
        "print(\"access private element \",s.name_access) #access name attribute which is private\n",
        "s.set_name=\"Rohit\" #set ne wname\n",
        "print(\"after set new name:\",s.name_access)\n",
        "del s.del_name #delete name atribute\n",
        "s.name_access    #access delete element"
      ],
      "metadata": {
        "colab": {
          "base_uri": "https://localhost:8080/",
          "height": 346
        },
        "id": "sL8rIw7xsXw1",
        "outputId": "1ce64d3d-a61c-4ff2-b5e1-4d34497afa56"
      },
      "execution_count": 51,
      "outputs": [
        {
          "output_type": "stream",
          "name": "stdout",
          "text": [
            "access private element  Rahul\n",
            "after set new name: Rohit\n"
          ]
        },
        {
          "output_type": "error",
          "ename": "AttributeError",
          "evalue": "'Sample' object has no attribute '_name'",
          "traceback": [
            "\u001b[0;31m---------------------------------------------------------------------------\u001b[0m",
            "\u001b[0;31mAttributeError\u001b[0m                            Traceback (most recent call last)",
            "\u001b[0;32m<ipython-input-51-fd3537b1a196>\u001b[0m in \u001b[0;36m<cell line: 20>\u001b[0;34m()\u001b[0m\n\u001b[1;32m     18\u001b[0m \u001b[0mprint\u001b[0m\u001b[0;34m(\u001b[0m\u001b[0;34m\"after set new name:\"\u001b[0m\u001b[0;34m,\u001b[0m\u001b[0ms\u001b[0m\u001b[0;34m.\u001b[0m\u001b[0mname_access\u001b[0m\u001b[0;34m)\u001b[0m\u001b[0;34m\u001b[0m\u001b[0;34m\u001b[0m\u001b[0m\n\u001b[1;32m     19\u001b[0m \u001b[0;32mdel\u001b[0m \u001b[0ms\u001b[0m\u001b[0;34m.\u001b[0m\u001b[0mdel_name\u001b[0m \u001b[0;31m#delete name atribute\u001b[0m\u001b[0;34m\u001b[0m\u001b[0;34m\u001b[0m\u001b[0m\n\u001b[0;32m---> 20\u001b[0;31m \u001b[0ms\u001b[0m\u001b[0;34m.\u001b[0m\u001b[0mname_access\u001b[0m    \u001b[0;31m#access delete element\u001b[0m\u001b[0;34m\u001b[0m\u001b[0;34m\u001b[0m\u001b[0m\n\u001b[0m",
            "\u001b[0;32m<ipython-input-51-fd3537b1a196>\u001b[0m in \u001b[0;36mname_access\u001b[0;34m(self)\u001b[0m\n\u001b[1;32m      6\u001b[0m   \u001b[0;34m@\u001b[0m\u001b[0mproperty\u001b[0m\u001b[0;34m\u001b[0m\u001b[0;34m\u001b[0m\u001b[0m\n\u001b[1;32m      7\u001b[0m   \u001b[0;32mdef\u001b[0m \u001b[0mname_access\u001b[0m\u001b[0;34m(\u001b[0m\u001b[0mself\u001b[0m\u001b[0;34m)\u001b[0m\u001b[0;34m:\u001b[0m\u001b[0;34m\u001b[0m\u001b[0;34m\u001b[0m\u001b[0m\n\u001b[0;32m----> 8\u001b[0;31m     \u001b[0;32mreturn\u001b[0m \u001b[0mself\u001b[0m\u001b[0;34m.\u001b[0m\u001b[0m_name\u001b[0m\u001b[0;34m\u001b[0m\u001b[0;34m\u001b[0m\u001b[0m\n\u001b[0m\u001b[1;32m      9\u001b[0m   \u001b[0;34m@\u001b[0m\u001b[0mname_access\u001b[0m\u001b[0;34m.\u001b[0m\u001b[0msetter\u001b[0m\u001b[0;34m\u001b[0m\u001b[0;34m\u001b[0m\u001b[0m\n\u001b[1;32m     10\u001b[0m   \u001b[0;32mdef\u001b[0m \u001b[0mset_name\u001b[0m\u001b[0;34m(\u001b[0m\u001b[0mself\u001b[0m\u001b[0;34m,\u001b[0m\u001b[0mne_name\u001b[0m\u001b[0;34m)\u001b[0m\u001b[0;34m:\u001b[0m\u001b[0;34m\u001b[0m\u001b[0;34m\u001b[0m\u001b[0m\n",
            "\u001b[0;31mAttributeError\u001b[0m: 'Sample' object has no attribute '_name'"
          ]
        }
      ]
    },
    {
      "cell_type": "code",
      "source": [
        "s.name_access"
      ],
      "metadata": {
        "colab": {
          "base_uri": "https://localhost:8080/",
          "height": 273
        },
        "id": "3SALSUuYAZ95",
        "outputId": "33625b66-c191-42b3-a4ef-a9475a589688"
      },
      "execution_count": 50,
      "outputs": [
        {
          "output_type": "error",
          "ename": "AttributeError",
          "evalue": "'Sample' object has no attribute '_name'",
          "traceback": [
            "\u001b[0;31m---------------------------------------------------------------------------\u001b[0m",
            "\u001b[0;31mAttributeError\u001b[0m                            Traceback (most recent call last)",
            "\u001b[0;32m<ipython-input-50-fc3c6caf3e01>\u001b[0m in \u001b[0;36m<cell line: 1>\u001b[0;34m()\u001b[0m\n\u001b[0;32m----> 1\u001b[0;31m \u001b[0ms\u001b[0m\u001b[0;34m.\u001b[0m\u001b[0mname_access\u001b[0m\u001b[0;34m\u001b[0m\u001b[0;34m\u001b[0m\u001b[0m\n\u001b[0m",
            "\u001b[0;32m<ipython-input-49-a879b8a0e1aa>\u001b[0m in \u001b[0;36mname_access\u001b[0;34m(self)\u001b[0m\n\u001b[1;32m      6\u001b[0m   \u001b[0;34m@\u001b[0m\u001b[0mproperty\u001b[0m\u001b[0;34m\u001b[0m\u001b[0;34m\u001b[0m\u001b[0m\n\u001b[1;32m      7\u001b[0m   \u001b[0;32mdef\u001b[0m \u001b[0mname_access\u001b[0m\u001b[0;34m(\u001b[0m\u001b[0mself\u001b[0m\u001b[0;34m)\u001b[0m\u001b[0;34m:\u001b[0m\u001b[0;34m\u001b[0m\u001b[0;34m\u001b[0m\u001b[0m\n\u001b[0;32m----> 8\u001b[0;31m     \u001b[0;32mreturn\u001b[0m \u001b[0mself\u001b[0m\u001b[0;34m.\u001b[0m\u001b[0m_name\u001b[0m\u001b[0;34m\u001b[0m\u001b[0;34m\u001b[0m\u001b[0m\n\u001b[0m\u001b[1;32m      9\u001b[0m   \u001b[0;34m@\u001b[0m\u001b[0mname_access\u001b[0m\u001b[0;34m.\u001b[0m\u001b[0msetter\u001b[0m\u001b[0;34m\u001b[0m\u001b[0;34m\u001b[0m\u001b[0m\n\u001b[1;32m     10\u001b[0m   \u001b[0;32mdef\u001b[0m \u001b[0mset_name\u001b[0m\u001b[0;34m(\u001b[0m\u001b[0mself\u001b[0m\u001b[0;34m,\u001b[0m\u001b[0mne_name\u001b[0m\u001b[0;34m)\u001b[0m\u001b[0;34m:\u001b[0m\u001b[0;34m\u001b[0m\u001b[0;34m\u001b[0m\u001b[0m\n",
            "\u001b[0;31mAttributeError\u001b[0m: 'Sample' object has no attribute '_name'"
          ]
        }
      ]
    },
    {
      "cell_type": "code",
      "source": [
        "# # 70.\tHow does encapsulation relate to property decorators in Python? Provide an example showcasing encapsulation using property decorators.\n",
        "# Encapsulation is a fundamental concept in object-oriented programming that involves bundling data (attributes) and methods (functions) that operate on that data into a single unit, typically a class. It also involves restricting direct access to some of an object's components, which helps protect the integrity of the object's state and ensures that it is modified only in controlled ways.\n",
        "\n",
        "class Student:\n",
        "  def __init__(self,name,roll,age):\n",
        "    self._name=name\n",
        "    self._age=age\n",
        "    self._roll=roll\n",
        "  @property\n",
        "  def name(self):\n",
        "    return self._name\n",
        "  @property\n",
        "  def age(self):\n",
        "    return self._age\n",
        "  @property\n",
        "  def roll(self):\n",
        "    return self._roll\n",
        "  @name.setter\n",
        "  def chan_age(self,new):\n",
        "     self._age=new\n",
        "  @age.setter\n",
        "  def chan_name(self,new):\n",
        "    self._name=new\n",
        "  @roll.setter\n",
        "  def chan_roll(self,rol):\n",
        "    self._roll=rol\n",
        "stu=Student(\"Rahul\",12121,21)\n",
        "stu.name #access private name\n",
        "print(f\"age is {stu.age}\")\n",
        "stu.chan_age=12 #change private age\n",
        "print(f\"new age is {stu.age}\")\n",
        "\n"
      ],
      "metadata": {
        "colab": {
          "base_uri": "https://localhost:8080/"
        },
        "id": "Myev0tXdsbO0",
        "outputId": "50dfad5e-04a6-41fd-9ebc-628321981899"
      },
      "execution_count": 57,
      "outputs": [
        {
          "output_type": "stream",
          "name": "stdout",
          "text": [
            "age is 21\n",
            "new age is 12\n"
          ]
        }
      ]
    },
    {
      "cell_type": "code",
      "source": [],
      "metadata": {
        "id": "WEUqDaHVBXzq"
      },
      "execution_count": null,
      "outputs": []
    }
  ]
}